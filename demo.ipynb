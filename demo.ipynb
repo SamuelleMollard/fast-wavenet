{
 "cells": [
  {
   "cell_type": "markdown",
   "metadata": {},
   "source": [
    "# Wavenet Demo\n",
    "Demo of our efficient generation implementation.\n",
    "\n",
    "Trains wavenet on a single wav file. Then generates that file, starting from a single sample."
   ]
  },
  {
   "cell_type": "code",
   "execution_count": null,
   "metadata": {},
   "outputs": [],
   "source": [
    "from time import time\n",
    "import datetime\n",
    "import os\n",
    "\n",
    "\n",
    "from wavenet.utils import make_batch\n",
    "from wavenet.models import Model, Generator\n",
    "\n",
    "from IPython.display import Audio\n",
    "from librosa import display, decompose, output\n",
    "\n",
    "import matplotlib.pyplot as plt\n",
    "\n",
    "%matplotlib inline"
   ]
  },
  {
   "cell_type": "code",
   "execution_count": null,
   "metadata": {},
   "outputs": [],
   "source": [
    "sample_rate = 16000\n",
    "wav = 'Floating_Points'\n",
    "path = 'assets/' + wav +'.wav'\n",
    "duration=6\n",
    "\n",
    "server_dir = 'datasets/'\n",
    "local_dir = 'datasets/'\n",
    "\n",
    "training_done = False\n",
    "\n",
    "inputs, targets = make_batch(path, sample_rate, duration=duration)\n",
    "\n",
    "num_time_samples = inputs.shape[1]\n",
    "num_channels = 1\n",
    "gpu_fraction = 1.0\n",
    "num_classes=256\n",
    "num_blocks=2\n",
    "num_layers=14\n",
    "num_hidden=128\n",
    "\n",
    "model = Model(num_time_samples=num_time_samples,\n",
    "              num_channels=num_channels,\n",
    "              gpu_fraction=gpu_fraction,\n",
    "              num_classes=num_classes, \n",
    "              num_blocks=num_blocks, \n",
    "              num_layers=num_layers,\n",
    "              num_hidden=num_hidden)\n",
    "\n",
    "%matplotlib inline\n",
    "\n",
    "Audio(inputs.reshape(inputs.shape[1]), rate=sample_rate)"
   ]
  },
  {
   "cell_type": "code",
   "execution_count": null,
   "metadata": {},
   "outputs": [],
   "source": [
    "global_tic = time()\n",
    "train_step, losses = model.train(inputs, targets)\n",
    "global_toc = time()\n",
    "\n",
    "training_time = global_toc-global_tic\n",
    "print('Training took {} seconds.'.format(training_time))\n",
    "\n",
    "training_done = True\n",
    "\n",
    "filename = \"lay_{}_qtz_{}_dil_{}_nsp_{}_step_{}\".format(num_layers, num_classes, num_hidden, num_time_samples+1,train_step)\n",
    "\n",
    "plt.plot(losses)\n",
    "plt.show()\n",
    "\n",
    "# O(num_sample * num_layers)  => num_classes (quantification) doesn't affect the time complexity\n",
    "    # num_sample : 3s of training per second of inputs\n",
    "    #              Sample_rate=44100 => 1_second_of_traning/14000_samples"
   ]
  },
  {
   "cell_type": "code",
   "execution_count": 1,
   "metadata": {},
   "outputs": [
    {
     "ename": "NameError",
     "evalue": "name 'local_dir' is not defined",
     "output_type": "error",
     "traceback": [
      "\u001b[0;31m---------------------------------------------------------------------------\u001b[0m",
      "\u001b[0;31mNameError\u001b[0m                                 Traceback (most recent call last)",
      "\u001b[0;32m<ipython-input-1-573a19518675>\u001b[0m in \u001b[0;36m<module>\u001b[0;34m()\u001b[0m\n\u001b[1;32m      1\u001b[0m \u001b[0;31m# To save generated and original samples locally or on the server\u001b[0m\u001b[0;34m\u001b[0m\u001b[0;34m\u001b[0m\u001b[0m\n\u001b[1;32m      2\u001b[0m \u001b[0;34m\u001b[0m\u001b[0m\n\u001b[0;32m----> 3\u001b[0;31m \u001b[0;32mfor\u001b[0m \u001b[0mdirectory\u001b[0m \u001b[0;32min\u001b[0m \u001b[0;34m[\u001b[0m\u001b[0mlocal_dir\u001b[0m\u001b[0;34m]\u001b[0m \u001b[0;34m:\u001b[0m\u001b[0;34m\u001b[0m\u001b[0m\n\u001b[0m\u001b[1;32m      4\u001b[0m \u001b[0;34m\u001b[0m\u001b[0m\n\u001b[1;32m      5\u001b[0m     \u001b[0mnew_dir_path\u001b[0m \u001b[0;34m=\u001b[0m \u001b[0mdirectory\u001b[0m \u001b[0;34m+\u001b[0m \u001b[0mwav\u001b[0m\u001b[0;34m\u001b[0m\u001b[0m\n",
      "\u001b[0;31mNameError\u001b[0m: name 'local_dir' is not defined"
     ]
    }
   ],
   "source": [
    "# To save generated and original samples locally or on the server\n",
    "\n",
    "for directory in [local_dir] :\n",
    "    \n",
    "    new_dir_path = directory + wav \n",
    "    \n",
    "    sample_rate_path = '/' + 'sr_{}'.format(sample_rate)\n",
    "    \n",
    "    if not os.path.exists(new_dir_path):\n",
    "        os.mkdir(new_dir_path)\n",
    "        print(\"Directory : \" , new_dir_path ,  \" created \")\n",
    "        \n",
    "    else:    \n",
    "        print(\"Directory : \" , new_dir_path ,  \" already exists\")\n",
    "        \n",
    "    if not os.path.exists(new_dir_path + sample_rate_path):\n",
    "        os.mkdir(new_dir_path + sample_rate_path)\n",
    "        print(\"Directory : \" , new_dir_path + sample_rate_path ,  \" created \")\n",
    "        \n",
    "    else:    \n",
    "        print(\"Directory : \" , new_dir_path + sample_rate_path,  \" already exists\")\n",
    "        \n",
    "    if training_done == True :       \n",
    "        filename = \"lay_{}_qtz_{}_dil_{}_nsp_{}_step_{}\".format(num_layers, num_classes, num_hidden, num_time_samples+1,train_step)\n",
    "    \n",
    "    if training_done == False :        \n",
    "        filename = \"lay_{}_qtz_{}_dil_{}_nsp_{}\".format(num_layers, num_classes, num_hidden, num_time_samples+1)\n",
    "\n",
    "    # Write the original wav file if it doesn't exist\n",
    "    \n",
    "    if os.path.isfile(new_dir_path + sample_rate_path + '/original_sr_{}.wav'.format(sample_rate)) == False :        \n",
    "        output.write_wav(new_dir_path + sample_rate_path + '/original_sr_{}.wav'.format(sample_rate), inputs.reshape(inputs.shape[1]), sample_rate)\n",
    "        print(\"original wav written\")\n",
    "        \n",
    "    else :\n",
    "        print(\"original wav already exists\")\n",
    "\n",
    "    #Create and write on a txt the hyperparameters that we used\n",
    "    if os.path.isfile(new_dir_path + sample_rate_path + '/' + filename + '.txt') == False :\n",
    "        f = open(new_dir_path + sample_rate_path + '/' + filename + '.txt', \"w+\")\n",
    "        print(\"Text files created\")\n",
    "    \n",
    "        f.write('The sample rate is : ' + str(sample_rate) + '\\n')\n",
    "        f.write('The duration is : ' + str(duration) + '\\n')\n",
    "        f.write('The number of samples is : ' + str(num_time_samples+1) + '\\n')\n",
    "        f.write('The quantification is : ' + str(num_classes) + '\\n')\n",
    "        f.write('The number of blocks is : ' + str(num_blocks) + '\\n')\n",
    "        f.write('The numbers of layers is : ' + str(num_layers) + '\\n')\n",
    "        f.write('The dilatation is : ' + str(num_hidden) + '\\n')\n",
    "        if training_done == True :\n",
    "            f.write('The number of train step is : ' + str(train_step) + '\\n')\n",
    "            f.write('The final loss is : ' + str(loss) + '\\n')\n",
    "            f.write('The training time is : ' + str(training_time) + '\\n')\n",
    "        f.write('The generation time is : ' + str(generation_time) + '\\n')\n",
    "    \n",
    "        print(\"text file ready\")\n",
    "        f.close()\n",
    "        \n",
    "    else:\n",
    "        print(\"Text file already exist\")\n",
    "        \n",
    "    #Save the losses as an image of the plot\n",
    "    if os.path.isfile(new_dir_path + sample_rate_path + '/' + filename + '-plot' '.png') == False :\n",
    "        plot.savefig(new_dir_path + sample_rate_path + '/' + filename + '-plot' '.png')\n",
    "        print('Losses created')\n",
    "    else :\n",
    "        print('Losses already exists')\n",
    "\n"
   ]
  },
  {
   "cell_type": "code",
   "execution_count": null,
   "metadata": {},
   "outputs": [],
   "source": [
    "generator = Generator(model)\n",
    "\n",
    "# Get first sample of input\n",
    "input_ = inputs[:, 0:1, 0]\n",
    "\n",
    "global_tic = time()\n",
    "predictions = generator.run(input_, num_time_samples)\n",
    "global_toc = time()\n",
    "generation_time = global_toc-global_tic\n",
    "print('Generating took {} seconds.'.format(generation_time))"
   ]
  },
  {
   "cell_type": "code",
   "execution_count": null,
   "metadata": {},
   "outputs": [],
   "source": [
    "plt.subplot(1, 1, 1)\n",
    "display.waveplot(inputs.reshape(inputs.shape[1]), sr=sample_rate)\n",
    "plt.title('original')"
   ]
  },
  {
   "cell_type": "code",
   "execution_count": null,
   "metadata": {},
   "outputs": [],
   "source": [
    "# The original audio\n",
    "Audio(inputs.reshape(inputs.shape[1]), rate=sample_rate)"
   ]
  },
  {
   "cell_type": "code",
   "execution_count": null,
   "metadata": {},
   "outputs": [],
   "source": [
    "# The predictions from the first imput\n",
    "\n",
    "Audio(predictions, rate=sample_rate)"
   ]
  },
  {
   "cell_type": "code",
   "execution_count": null,
   "metadata": {},
   "outputs": [],
   "source": [
    "# Write the generated wav file   \n",
    "if os.path.isfile(new_dir_path + sample_rate_path + '/' + filename + '.wav') == False :\n",
    "    output.write_wav(new_dir_path + sample_rate_path + '/' + filename + '.wav', predictions[0], sample_rate)\n",
    "    print(\"generated wav written\")\n",
    "else : \n",
    "    print(\"generated wav already exist with those parameters\")\n",
    "\n"
   ]
  },
  {
   "cell_type": "code",
   "execution_count": null,
   "metadata": {},
   "outputs": [],
   "source": [
    "import numpy as np \n",
    "global_tic = time()\n",
    "new_pred = generator.run([[np.random.randn()]], num_time_samples)\n",
    "global_toc = time()\n",
    "\n",
    "random_time = global_tic-global_toc\n",
    "f = open(new_dir_path + sample_rate_path + '/' + filename + '.txt', \"w\")\n",
    "f.write('The random generation time is : ' + str(random_time) + '\\n')"
   ]
  },
  {
   "cell_type": "code",
   "execution_count": null,
   "metadata": {},
   "outputs": [],
   "source": [
    "%matplotlib inline\n",
    "Audio(new_pred, rate=sample_rate)"
   ]
  },
  {
   "cell_type": "code",
   "execution_count": null,
   "metadata": {},
   "outputs": [],
   "source": [
    "# Save the random generated file\n",
    "if os.path.isfile(new_dir_path + sample_rate_path + '/' + filename + '_random' + '.wav') == False :\n",
    "    output.write_wav(new_dir_path + sample_rate_path + '/' + filename + '_random' + '.wav', new_pred[0], sample_rate)\n",
    "    print(\"random generated wav written\")\n",
    "else : \n",
    "    print(\"random generated wav already exist with those parameters\")\n"
   ]
  }
 ],
 "metadata": {
  "kernelspec": {
   "display_name": "Python [default]",
   "language": "python",
   "name": "python3"
  },
  "language_info": {
   "codemirror_mode": {
    "name": "ipython",
    "version": 3
   },
   "file_extension": ".py",
   "mimetype": "text/x-python",
   "name": "python",
   "nbconvert_exporter": "python",
   "pygments_lexer": "ipython3",
   "version": "3.6.4"
  }
 },
 "nbformat": 4,
 "nbformat_minor": 1
}
